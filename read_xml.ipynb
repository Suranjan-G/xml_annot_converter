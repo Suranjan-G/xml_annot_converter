{
 "cells": [
  {
   "cell_type": "code",
   "execution_count": 25,
   "id": "3dc4d2ba-0fe1-41c0-bdf1-6782b88ef21a",
   "metadata": {},
   "outputs": [],
   "source": [
    "import xmltodict\n",
    "\n",
    "with open(\"./KAIST/kaist-cvpr15/annotations-xml-new/set01/V001/I00000.xml\") as file:\n",
    "    file_data = file.read() # read file contents\n",
    "    \n",
    "    # parse data using package\n",
    "    dict_data = xmltodict.parse(file_data)"
   ]
  },
  {
   "cell_type": "code",
   "execution_count": 26,
   "id": "68a197a5-0f7d-4ba1-aa09-91e5d85a6a1e",
   "metadata": {},
   "outputs": [
    {
     "data": {
      "text/plain": [
       "OrderedDict([('annotation',\n",
       "              OrderedDict([('folder', 'KAIST Multispectral Ped Benchmark'),\n",
       "                           ('filename', 'set01/V001/I00000'),\n",
       "                           ('source',\n",
       "                            OrderedDict([('database', 'KAIST pedestrian'),\n",
       "                                         ('annotation', 'KAIST pedestrian'),\n",
       "                                         ('image', 'KAIST pedestrian'),\n",
       "                                         ('url',\n",
       "                                          'https://soonminhwang.github.io/rgbt-ped-detection/')])),\n",
       "                           ('size',\n",
       "                            OrderedDict([('width', '640'),\n",
       "                                         ('height', '512'),\n",
       "                                         ('depth', '4')])),\n",
       "                           ('segmented', '0'),\n",
       "                           ('object',\n",
       "                            [OrderedDict([('name', 'person'),\n",
       "                                          ('bndbox',\n",
       "                                           OrderedDict([('x', '264'),\n",
       "                                                        ('y', '228'),\n",
       "                                                        ('w', '32'),\n",
       "                                                        ('h', '75')])),\n",
       "                                          ('pose', 'unknown'),\n",
       "                                          ('truncated', '0'),\n",
       "                                          ('difficult', '0'),\n",
       "                                          ('occlusion', '0')]),\n",
       "                             OrderedDict([('name', 'person'),\n",
       "                                          ('bndbox',\n",
       "                                           OrderedDict([('x', '294'),\n",
       "                                                        ('y', '221'),\n",
       "                                                        ('w', '30'),\n",
       "                                                        ('h', '67')])),\n",
       "                                          ('pose', 'unknown'),\n",
       "                                          ('truncated', '0'),\n",
       "                                          ('difficult', '0'),\n",
       "                                          ('occlusion', '0')]),\n",
       "                             OrderedDict([('name', 'people'),\n",
       "                                          ('bndbox',\n",
       "                                           OrderedDict([('x', '205'),\n",
       "                                                        ('y', '218'),\n",
       "                                                        ('w', '41'),\n",
       "                                                        ('h', '76')])),\n",
       "                                          ('pose', 'unknown'),\n",
       "                                          ('truncated', '0'),\n",
       "                                          ('difficult', '0'),\n",
       "                                          ('occlusion', '0')]),\n",
       "                             OrderedDict([('name', 'person'),\n",
       "                                          ('bndbox',\n",
       "                                           OrderedDict([('x', '540'),\n",
       "                                                        ('y', '223'),\n",
       "                                                        ('w', '33'),\n",
       "                                                        ('h', '69')])),\n",
       "                                          ('pose', 'unknown'),\n",
       "                                          ('truncated', '0'),\n",
       "                                          ('difficult', '0'),\n",
       "                                          ('occlusion', '0')]),\n",
       "                             OrderedDict([('name', 'person'),\n",
       "                                          ('bndbox',\n",
       "                                           OrderedDict([('x', '316'),\n",
       "                                                        ('y', '221'),\n",
       "                                                        ('w', '29'),\n",
       "                                                        ('h', '73')])),\n",
       "                                          ('pose', 'unknown'),\n",
       "                                          ('truncated', '0'),\n",
       "                                          ('difficult', '0'),\n",
       "                                          ('occlusion', '0')]),\n",
       "                             OrderedDict([('name', 'person'),\n",
       "                                          ('bndbox',\n",
       "                                           OrderedDict([('x', '350'),\n",
       "                                                        ('y', '239'),\n",
       "                                                        ('w', '24'),\n",
       "                                                        ('h', '58')])),\n",
       "                                          ('pose', 'unknown'),\n",
       "                                          ('truncated', '0'),\n",
       "                                          ('difficult', '0'),\n",
       "                                          ('occlusion', '0')])])]))])"
      ]
     },
     "execution_count": 26,
     "metadata": {},
     "output_type": "execute_result"
    }
   ],
   "source": [
    "dict_data"
   ]
  },
  {
   "cell_type": "code",
   "execution_count": 6,
   "id": "e4c3d244-b4d2-4ad3-8f84-e98d2ea82995",
   "metadata": {},
   "outputs": [],
   "source": [
    "import glob\n",
    "import xml.etree.ElementTree as ET\n",
    "import csv"
   ]
  },
  {
   "cell_type": "code",
   "execution_count": 26,
   "id": "ed5cc082-3b7c-4b1c-a61b-ec6546b3fa5d",
   "metadata": {},
   "outputs": [],
   "source": [
    "annot_list = glob.glob('/home/aicv/suranjan/workspace/rgbt-ped-detection/KAIST/kaist-cvpr15/annotations-xml-new/set*/V*/I*.xml')"
   ]
  },
  {
   "cell_type": "code",
   "execution_count": 29,
   "id": "9f32e2dc-a6a1-492e-9f6a-f12cf01ae1bb",
   "metadata": {},
   "outputs": [],
   "source": [
    "with open('annot.csv', 'w', newline='') as file:\n",
    "            writer = csv.writer(file)\n",
    "            writer.writerow([\"file_name\", \"width\", \"height\", \"class_name\", \"x\", \"y\", \"w\", \"h\"])       \n",
    "            \n",
    "for i, annot in enumerate(annot_list):\n",
    "    \n",
    "    file_name = annot\n",
    "    # print(annot[88:len(annot)-4])\n",
    "    \n",
    "    # parse xml file\n",
    "    tree = ET.parse(annot) \n",
    "    root = tree.getroot() # get root object\n",
    "    \n",
    "    if(len(root.findall('object'))==0):\n",
    "        continue\n",
    "    \n",
    "    height = int(root.find(\"size\")[0].text)\n",
    "    width = int(root.find(\"size\")[1].text)\n",
    "    # channels = int(root.find(\"size\")[2].text)\n",
    "    \n",
    "    for member in root.findall('object'):\n",
    "        \n",
    "        class_name = member[0].text # class name\n",
    "        x = member[1][0].text\n",
    "        y = member[1][1].text\n",
    "        w = member[1][2].text\n",
    "        h = member[1][3].text\n",
    "        \n",
    "        with open('annot.csv', 'a', newline='') as file:\n",
    "            writer = csv.writer(file)\n",
    "            writer.writerow([file_name[88:len(annot)-4], width, height, class_name, x, y, w, h])            "
   ]
  },
  {
   "cell_type": "code",
   "execution_count": null,
   "id": "2257419b-ac93-4905-b16c-29730d41f774",
   "metadata": {},
   "outputs": [],
   "source": []
  }
 ],
 "metadata": {
  "kernelspec": {
   "display_name": "Python 3 (ipykernel)",
   "language": "python",
   "name": "python3"
  },
  "language_info": {
   "codemirror_mode": {
    "name": "ipython",
    "version": 3
   },
   "file_extension": ".py",
   "mimetype": "text/x-python",
   "name": "python",
   "nbconvert_exporter": "python",
   "pygments_lexer": "ipython3",
   "version": "3.6.13"
  }
 },
 "nbformat": 4,
 "nbformat_minor": 5
}
